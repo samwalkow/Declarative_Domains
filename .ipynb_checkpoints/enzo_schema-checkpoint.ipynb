{
 "cells": [
  {
   "cell_type": "code",
   "execution_count": 1,
   "metadata": {},
   "outputs": [
    {
     "name": "stdout",
     "output_type": "stream",
     "text": [
      "Requirement already satisfied: pydantic in /Users/swalkow2/anaconda3/lib/python3.7/site-packages (0.29)\r\n"
     ]
    }
   ],
   "source": [
    "!pip install pydantic"
   ]
  },
  {
   "cell_type": "code",
   "execution_count": 2,
   "metadata": {},
   "outputs": [
    {
     "name": "stdout",
     "output_type": "stream",
     "text": [
      "Requirement already satisfied: pydantic[ujson] in /Users/swalkow2/anaconda3/lib/python3.7/site-packages (0.29)\r\n",
      "Requirement already satisfied: ujson>=1.35; extra == \"ujson\" in /Users/swalkow2/anaconda3/lib/python3.7/site-packages (from pydantic[ujson]) (1.35)\r\n"
     ]
    }
   ],
   "source": [
    "! pip install pydantic[ujson]"
   ]
  },
  {
   "cell_type": "code",
   "execution_count": 3,
   "metadata": {},
   "outputs": [
    {
     "name": "stdout",
     "output_type": "stream",
     "text": [
      "Requirement already satisfied: pydantic[email] in /Users/swalkow2/anaconda3/lib/python3.7/site-packages (0.29)\r\n",
      "Requirement already satisfied: email-validator>=1.0.3; extra == \"email\" in /Users/swalkow2/anaconda3/lib/python3.7/site-packages (from pydantic[email]) (1.0.4)\r\n",
      "Requirement already satisfied: dnspython>=1.15.0 in /Users/swalkow2/anaconda3/lib/python3.7/site-packages (from email-validator>=1.0.3; extra == \"email\"->pydantic[email]) (1.16.0)\r\n",
      "Requirement already satisfied: idna>=2.0.0 in /Users/swalkow2/anaconda3/lib/python3.7/site-packages (from email-validator>=1.0.3; extra == \"email\"->pydantic[email]) (2.8)\r\n"
     ]
    }
   ],
   "source": [
    "! pip install pydantic[email]"
   ]
  },
  {
   "cell_type": "code",
   "execution_count": 15,
   "metadata": {},
   "outputs": [],
   "source": [
    "import yt"
   ]
  },
  {
   "cell_type": "code",
   "execution_count": 4,
   "metadata": {},
   "outputs": [],
   "source": [
    "import pydantic"
   ]
  },
  {
   "cell_type": "code",
   "execution_count": 5,
   "metadata": {},
   "outputs": [
    {
     "name": "stdout",
     "output_type": "stream",
     "text": [
      "compiled False\n"
     ]
    }
   ],
   "source": [
    "print(\"compiled\", pydantic.compiled)"
   ]
  },
  {
   "cell_type": "code",
   "execution_count": 6,
   "metadata": {},
   "outputs": [
    {
     "name": "stdout",
     "output_type": "stream",
     "text": [
      "User id=123 name='John Doe' signup_ts=datetime.datetime(2017, 6, 1, 12, 22) friends=[1, 2, 3]\n",
      "123\n"
     ]
    }
   ],
   "source": [
    "from datetime import datetime\n",
    "from typing import List\n",
    "from pydantic import BaseModel\n",
    "\n",
    "class User(BaseModel):\n",
    "    id: int\n",
    "    name = 'John Doe'\n",
    "    signup_ts: datetime = None\n",
    "    friends: List[int] = []\n",
    "\n",
    "external_data = {'id': '123', 'signup_ts': '2017-06-01 12:22', 'friends': [1, '2', b'3']}\n",
    "user = User(**external_data)\n",
    "print(user)\n",
    "\n",
    "print(user.id)\n"
   ]
  },
  {
   "cell_type": "markdown",
   "metadata": {},
   "source": [
    "Does each frontend became a class and/or methods? "
   ]
  },
  {
   "cell_type": "code",
   "execution_count": 11,
   "metadata": {},
   "outputs": [
    {
     "name": "stdout",
     "output_type": "stream",
     "text": [
      "domain file_name='nii.gz' frontend='neuro'\n",
      "nii.gz\n"
     ]
    }
   ],
   "source": [
    "## try some yt like stuff\n",
    "## create schema\n",
    "\n",
    "class domain(BaseModel):\n",
    "    file_name: str = None\n",
    "    frontend : str = None\n",
    "        \n",
    "\n",
    "test_data = {'frontend':'neuro', 'file_name':'nii.gz'}\n",
    "dd = domain(**test_data)\n",
    "\n",
    "print(dd)\n",
    "print(dd.file_name)"
   ]
  },
  {
   "cell_type": "code",
   "execution_count": 14,
   "metadata": {},
   "outputs": [
    {
     "name": "stdout",
     "output_type": "stream",
     "text": [
      "/Users/swalkow2/Documents/GitHub/Declarative_Domains\r\n"
     ]
    }
   ],
   "source": [
    "!pwd"
   ]
  },
  {
   "cell_type": "code",
   "execution_count": 53,
   "metadata": {},
   "outputs": [
    {
     "name": "stdout",
     "output_type": "stream",
     "text": [
      "test.txt\n"
     ]
    }
   ],
   "source": [
    "## try HDF5 scheme\n",
    "\n",
    "class Dataset:\n",
    "    def __init__(self, fid, shape:int, header: str):\n",
    "        self.fid : str = fid\n",
    "        self.shape : int\n",
    "        self.header : str\n",
    "    \n",
    "test = Dataset(fid = 'test.txt', shape = 3, header = 'test')\n",
    "print(test.fid)"
   ]
  },
  {
   "cell_type": "code",
   "execution_count": 62,
   "metadata": {},
   "outputs": [
    {
     "name": "stdout",
     "output_type": "stream",
     "text": [
      "datatypes fid='testing' shape=[3, 3, 4]\n"
     ]
    }
   ],
   "source": [
    "class datatypes(BaseModel):\n",
    "    fid : str\n",
    "    shape : List[int]\n",
    "        \n",
    "d = {'fid':'testing', 'shape':[3,3,4]}\n",
    "hd = datatypes(**d)\n",
    "print(hd)"
   ]
  },
  {
   "cell_type": "code",
   "execution_count": 68,
   "metadata": {},
   "outputs": [],
   "source": [
    "class MainModel(pydantic.BaseModel):\n",
    "    data : datatypes = pydantic.Schema('test.txt', shape = [3,2,4])\n",
    "    class Config:\n",
    "        title = 'New Schema'\n",
    "    "
   ]
  },
  {
   "cell_type": "code",
   "execution_count": 69,
   "metadata": {},
   "outputs": [
    {
     "name": "stdout",
     "output_type": "stream",
     "text": [
      "{'title': 'New Schema', 'type': 'object', 'properties': {'data': {'title': 'Data', 'default': 'test.txt', 'shape': [3, 2, 4], 'allOf': [{'$ref': '#/definitions/datatypes'}]}}, 'definitions': {'datatypes': {'title': 'datatypes', 'type': 'object', 'properties': {'fid': {'title': 'Fid', 'type': 'string'}, 'shape': {'title': 'Shape', 'type': 'array', 'items': {'type': 'integer'}}}, 'required': ['fid', 'shape']}}}\n"
     ]
    }
   ],
   "source": [
    "print(MainModel.schema())"
   ]
  },
  {
   "cell_type": "code",
   "execution_count": 70,
   "metadata": {},
   "outputs": [
    {
     "name": "stdout",
     "output_type": "stream",
     "text": [
      "{\n",
      "  \"title\": \"New Schema\",\n",
      "  \"type\": \"object\",\n",
      "  \"properties\": {\n",
      "    \"data\": {\n",
      "      \"title\": \"Data\",\n",
      "      \"default\": \"test.txt\",\n",
      "      \"shape\": [\n",
      "        3,\n",
      "        2,\n",
      "        4\n",
      "      ],\n",
      "      \"allOf\": [\n",
      "        {\n",
      "          \"$ref\": \"#/definitions/datatypes\"\n",
      "        }\n",
      "      ]\n",
      "    }\n",
      "  },\n",
      "  \"definitions\": {\n",
      "    \"datatypes\": {\n",
      "      \"title\": \"datatypes\",\n",
      "      \"type\": \"object\",\n",
      "      \"properties\": {\n",
      "        \"fid\": {\n",
      "          \"title\": \"Fid\",\n",
      "          \"type\": \"string\"\n",
      "        },\n",
      "        \"shape\": {\n",
      "          \"title\": \"Shape\",\n",
      "          \"type\": \"array\",\n",
      "          \"items\": {\n",
      "            \"type\": \"integer\"\n",
      "          }\n",
      "        }\n",
      "      },\n",
      "      \"required\": [\n",
      "        \"fid\",\n",
      "        \"shape\"\n",
      "      ]\n",
      "    }\n",
      "  }\n",
      "}\n"
     ]
    }
   ],
   "source": [
    "print(MainModel.schema_json(indent=2))"
   ]
  },
  {
   "cell_type": "markdown",
   "metadata": {},
   "source": [
    "use enzo data - enzo heichary .heichary, skip the pointers (make everything typed)"
   ]
  },
  {
   "cell_type": "markdown",
   "metadata": {},
   "source": [
    "pull up the \"invalidators\" and put in schema"
   ]
  },
  {
   "cell_type": "markdown",
   "metadata": {},
   "source": [
    "Do all type annotations"
   ]
  },
  {
   "cell_type": "code",
   "execution_count": 157,
   "metadata": {},
   "outputs": [],
   "source": [
    "pydantic.BaseModel?"
   ]
  },
  {
   "cell_type": "code",
   "execution_count": 121,
   "metadata": {},
   "outputs": [],
   "source": [
    "class enzo_grid(BaseModel):\n",
    "    grid : int\n",
    "    task: int = 0\n",
    "    grid_rank : int\n",
    "    grid_dimension : List[int]\n",
    "    grid_start_index : List[int]\n",
    "    grid_end_index : List[int]\n",
    "    grid_left_edge : List[int] = [0,0]\n",
    "    grid_right_edge : List[int] = [1,1]\n",
    "    time : int = 1\n"
   ]
  },
  {
   "cell_type": "code",
   "execution_count": 122,
   "metadata": {},
   "outputs": [
    {
     "name": "stdout",
     "output_type": "stream",
     "text": [
      "enzo_grid grid=1 grid_rank=2 grid_dimension=[70, 70] grid_start_index=[3, 3] grid_end_index=[66, 66] task=0 grid_left_edge=[0, 0] grid_right_edge=[1, 1] time=1\n"
     ]
    }
   ],
   "source": [
    "e = {'grid':1, 'grid_rank': 2, 'grid_dimension': [70,70],\n",
    "    'grid_start_index': [3,3], 'grid_end_index': [66,66]}\n",
    "eg = enzo_grid(**e)\n",
    "print(eg)"
   ]
  },
  {
   "cell_type": "code",
   "execution_count": 132,
   "metadata": {},
   "outputs": [],
   "source": [
    "pydantic.Schema?"
   ]
  },
  {
   "cell_type": "code",
   "execution_count": 136,
   "metadata": {},
   "outputs": [],
   "source": [
    "class Enzo_Model(BaseModel):\n",
    "    hierarchy : enzo_grid = pydantic.Schema(..., **e)\n",
    "    class Config:\n",
    "        title = 'Enzo Schema'"
   ]
  },
  {
   "cell_type": "code",
   "execution_count": 137,
   "metadata": {},
   "outputs": [
    {
     "name": "stdout",
     "output_type": "stream",
     "text": [
      "{'title': 'Enzo Schema', 'type': 'object', 'properties': {'hierarchy': {'title': 'Hierarchy', 'grid': 1, 'grid_rank': 2, 'grid_dimension': [70, 70], 'grid_start_index': [3, 3], 'grid_end_index': [66, 66], 'allOf': [{'$ref': '#/definitions/enzo_grid'}]}}, 'required': ['hierarchy'], 'definitions': {'enzo_grid': {'title': 'enzo_grid', 'type': 'object', 'properties': {'grid': {'title': 'Grid', 'type': 'integer'}, 'grid_rank': {'title': 'Grid_Rank', 'type': 'integer'}, 'grid_dimension': {'title': 'Grid_Dimension', 'type': 'array', 'items': {'type': 'integer'}}, 'grid_start_index': {'title': 'Grid_Start_Index', 'type': 'array', 'items': {'type': 'integer'}}, 'grid_end_index': {'title': 'Grid_End_Index', 'type': 'array', 'items': {'type': 'integer'}}, 'task': {'title': 'Task', 'default': 0, 'type': 'integer'}, 'grid_left_edge': {'title': 'Grid_Left_Edge', 'default': [0, 0], 'type': 'array', 'items': {'type': 'integer'}}, 'grid_right_edge': {'title': 'Grid_Right_Edge', 'default': [1, 1], 'type': 'array', 'items': {'type': 'integer'}}, 'time': {'title': 'Time', 'default': 1, 'type': 'integer'}}, 'required': ['grid', 'grid_rank', 'grid_dimension', 'grid_start_index', 'grid_end_index']}}}\n"
     ]
    }
   ],
   "source": [
    "print(Enzo_Model.schema())"
   ]
  },
  {
   "cell_type": "code",
   "execution_count": 138,
   "metadata": {
    "scrolled": false
   },
   "outputs": [
    {
     "name": "stdout",
     "output_type": "stream",
     "text": [
      "{\n",
      "  \"title\": \"Enzo Schema\",\n",
      "  \"type\": \"object\",\n",
      "  \"properties\": {\n",
      "    \"hierarchy\": {\n",
      "      \"title\": \"Hierarchy\",\n",
      "      \"grid\": 1,\n",
      "      \"grid_rank\": 2,\n",
      "      \"grid_dimension\": [\n",
      "        70,\n",
      "        70\n",
      "      ],\n",
      "      \"grid_start_index\": [\n",
      "        3,\n",
      "        3\n",
      "      ],\n",
      "      \"grid_end_index\": [\n",
      "        66,\n",
      "        66\n",
      "      ],\n",
      "      \"allOf\": [\n",
      "        {\n",
      "          \"$ref\": \"#/definitions/enzo_grid\"\n",
      "        }\n",
      "      ]\n",
      "    }\n",
      "  },\n",
      "  \"required\": [\n",
      "    \"hierarchy\"\n",
      "  ],\n",
      "  \"definitions\": {\n",
      "    \"enzo_grid\": {\n",
      "      \"title\": \"enzo_grid\",\n",
      "      \"type\": \"object\",\n",
      "      \"properties\": {\n",
      "        \"grid\": {\n",
      "          \"title\": \"Grid\",\n",
      "          \"type\": \"integer\"\n",
      "        },\n",
      "        \"grid_rank\": {\n",
      "          \"title\": \"Grid_Rank\",\n",
      "          \"type\": \"integer\"\n",
      "        },\n",
      "        \"grid_dimension\": {\n",
      "          \"title\": \"Grid_Dimension\",\n",
      "          \"type\": \"array\",\n",
      "          \"items\": {\n",
      "            \"type\": \"integer\"\n",
      "          }\n",
      "        },\n",
      "        \"grid_start_index\": {\n",
      "          \"title\": \"Grid_Start_Index\",\n",
      "          \"type\": \"array\",\n",
      "          \"items\": {\n",
      "            \"type\": \"integer\"\n",
      "          }\n",
      "        },\n",
      "        \"grid_end_index\": {\n",
      "          \"title\": \"Grid_End_Index\",\n",
      "          \"type\": \"array\",\n",
      "          \"items\": {\n",
      "            \"type\": \"integer\"\n",
      "          }\n",
      "        },\n",
      "        \"task\": {\n",
      "          \"title\": \"Task\",\n",
      "          \"default\": 0,\n",
      "          \"type\": \"integer\"\n",
      "        },\n",
      "        \"grid_left_edge\": {\n",
      "          \"title\": \"Grid_Left_Edge\",\n",
      "          \"default\": [\n",
      "            0,\n",
      "            0\n",
      "          ],\n",
      "          \"type\": \"array\",\n",
      "          \"items\": {\n",
      "            \"type\": \"integer\"\n",
      "          }\n",
      "        },\n",
      "        \"grid_right_edge\": {\n",
      "          \"title\": \"Grid_Right_Edge\",\n",
      "          \"default\": [\n",
      "            1,\n",
      "            1\n",
      "          ],\n",
      "          \"type\": \"array\",\n",
      "          \"items\": {\n",
      "            \"type\": \"integer\"\n",
      "          }\n",
      "        },\n",
      "        \"time\": {\n",
      "          \"title\": \"Time\",\n",
      "          \"default\": 1,\n",
      "          \"type\": \"integer\"\n",
      "        }\n",
      "      },\n",
      "      \"required\": [\n",
      "        \"grid\",\n",
      "        \"grid_rank\",\n",
      "        \"grid_dimension\",\n",
      "        \"grid_start_index\",\n",
      "        \"grid_end_index\"\n",
      "      ]\n",
      "    }\n",
      "  }\n",
      "}\n"
     ]
    }
   ],
   "source": [
    "print(Enzo_Model.schema_json(indent=2))"
   ]
  },
  {
   "cell_type": "code",
   "execution_count": 147,
   "metadata": {},
   "outputs": [
    {
     "name": "stderr",
     "output_type": "stream",
     "text": [
      "yt : [INFO     ] 2019-06-25 12:30:54,148 Parameters: current_time              = 1\n",
      "yt : [INFO     ] 2019-06-25 12:30:54,150 Parameters: domain_dimensions         = [64 64  1]\n",
      "yt : [INFO     ] 2019-06-25 12:30:54,152 Parameters: domain_left_edge          = [0. 0. 0.]\n",
      "yt : [INFO     ] 2019-06-25 12:30:54,154 Parameters: domain_right_edge         = [1. 1. 1.]\n",
      "yt : [INFO     ] 2019-06-25 12:30:54,157 Parameters: cosmological_simulation   = 0.0\n"
     ]
    }
   ],
   "source": [
    "ds = yt.load(\"/Users/swalkow2/Downloads/Data/EnzoKelvinHelmholtz/DD0011/DD0011.hierarchy\")"
   ]
  },
  {
   "cell_type": "code",
   "execution_count": 160,
   "metadata": {},
   "outputs": [
    {
     "name": "stdout",
     "output_type": "stream",
     "text": [
      "2\n"
     ]
    }
   ],
   "source": [
    "print(ds.dimensionality)"
   ]
  },
  {
   "cell_type": "code",
   "execution_count": 156,
   "metadata": {},
   "outputs": [
    {
     "ename": "TypeError",
     "evalue": "__init__() takes 1 positional argument but 2 were given",
     "output_type": "error",
     "traceback": [
      "\u001b[0;31m---------------------------------------------------------------------------\u001b[0m",
      "\u001b[0;31mTypeError\u001b[0m                                 Traceback (most recent call last)",
      "\u001b[0;32m<ipython-input-156-c033c71b2d27>\u001b[0m in \u001b[0;36m<module>\u001b[0;34m\u001b[0m\n\u001b[1;32m      1\u001b[0m \u001b[0;34m\u001b[0m\u001b[0m\n\u001b[0;32m----> 2\u001b[0;31m \u001b[0mdeg\u001b[0m \u001b[0;34m=\u001b[0m \u001b[0menzo_grid\u001b[0m\u001b[0;34m(\u001b[0m\u001b[0mds\u001b[0m\u001b[0;34m)\u001b[0m\u001b[0;34m\u001b[0m\u001b[0;34m\u001b[0m\u001b[0m\n\u001b[0m\u001b[1;32m      3\u001b[0m \u001b[0mprint\u001b[0m\u001b[0;34m(\u001b[0m\u001b[0mdeg\u001b[0m\u001b[0;34m)\u001b[0m\u001b[0;34m\u001b[0m\u001b[0;34m\u001b[0m\u001b[0m\n",
      "\u001b[0;31mTypeError\u001b[0m: __init__() takes 1 positional argument but 2 were given"
     ]
    }
   ],
   "source": [
    "deg = enzo_grid(ds)\n",
    "print(deg)"
   ]
  },
  {
   "cell_type": "code",
   "execution_count": null,
   "metadata": {},
   "outputs": [],
   "source": []
  }
 ],
 "metadata": {
  "kernelspec": {
   "display_name": "Python 3",
   "language": "python",
   "name": "python3"
  },
  "language_info": {
   "codemirror_mode": {
    "name": "ipython",
    "version": 3
   },
   "file_extension": ".py",
   "mimetype": "text/x-python",
   "name": "python",
   "nbconvert_exporter": "python",
   "pygments_lexer": "ipython3",
   "version": "3.7.3"
  }
 },
 "nbformat": 4,
 "nbformat_minor": 2
}
