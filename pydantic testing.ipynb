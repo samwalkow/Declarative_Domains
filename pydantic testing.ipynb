{
 "cells": [
  {
   "cell_type": "code",
   "execution_count": 1,
   "metadata": {},
   "outputs": [
    {
     "name": "stdout",
     "output_type": "stream",
     "text": [
      "Requirement already satisfied: pydantic in /Users/swalkow2/anaconda3/lib/python3.7/site-packages (0.29)\r\n"
     ]
    }
   ],
   "source": [
    "!pip install pydantic"
   ]
  },
  {
   "cell_type": "code",
   "execution_count": 2,
   "metadata": {},
   "outputs": [
    {
     "name": "stdout",
     "output_type": "stream",
     "text": [
      "Requirement already satisfied: pydantic[ujson] in /Users/swalkow2/anaconda3/lib/python3.7/site-packages (0.29)\r\n",
      "Requirement already satisfied: ujson>=1.35; extra == \"ujson\" in /Users/swalkow2/anaconda3/lib/python3.7/site-packages (from pydantic[ujson]) (1.35)\r\n"
     ]
    }
   ],
   "source": [
    "! pip install pydantic[ujson]"
   ]
  },
  {
   "cell_type": "code",
   "execution_count": 3,
   "metadata": {},
   "outputs": [
    {
     "name": "stdout",
     "output_type": "stream",
     "text": [
      "Requirement already satisfied: pydantic[email] in /Users/swalkow2/anaconda3/lib/python3.7/site-packages (0.29)\r\n",
      "Requirement already satisfied: email-validator>=1.0.3; extra == \"email\" in /Users/swalkow2/anaconda3/lib/python3.7/site-packages (from pydantic[email]) (1.0.4)\r\n",
      "Requirement already satisfied: dnspython>=1.15.0 in /Users/swalkow2/anaconda3/lib/python3.7/site-packages (from email-validator>=1.0.3; extra == \"email\"->pydantic[email]) (1.16.0)\r\n",
      "Requirement already satisfied: idna>=2.0.0 in /Users/swalkow2/anaconda3/lib/python3.7/site-packages (from email-validator>=1.0.3; extra == \"email\"->pydantic[email]) (2.8)\r\n"
     ]
    }
   ],
   "source": [
    "! pip install pydantic[email]"
   ]
  },
  {
   "cell_type": "code",
   "execution_count": 15,
   "metadata": {},
   "outputs": [],
   "source": [
    "import yt"
   ]
  },
  {
   "cell_type": "code",
   "execution_count": 4,
   "metadata": {},
   "outputs": [],
   "source": [
    "import pydantic"
   ]
  },
  {
   "cell_type": "code",
   "execution_count": 5,
   "metadata": {},
   "outputs": [
    {
     "name": "stdout",
     "output_type": "stream",
     "text": [
      "compiled False\n"
     ]
    }
   ],
   "source": [
    "print(\"compiled\", pydantic.compiled)"
   ]
  },
  {
   "cell_type": "code",
   "execution_count": 6,
   "metadata": {},
   "outputs": [
    {
     "name": "stdout",
     "output_type": "stream",
     "text": [
      "User id=123 name='John Doe' signup_ts=datetime.datetime(2017, 6, 1, 12, 22) friends=[1, 2, 3]\n",
      "123\n"
     ]
    }
   ],
   "source": [
    "from datetime import datetime\n",
    "from typing import List\n",
    "from pydantic import BaseModel\n",
    "\n",
    "class User(BaseModel):\n",
    "    id: int\n",
    "    name = 'John Doe'\n",
    "    signup_ts: datetime = None\n",
    "    friends: List[int] = []\n",
    "\n",
    "external_data = {'id': '123', 'signup_ts': '2017-06-01 12:22', 'friends': [1, '2', b'3']}\n",
    "user = User(**external_data)\n",
    "print(user)\n",
    "\n",
    "print(user.id)\n"
   ]
  },
  {
   "cell_type": "markdown",
   "metadata": {},
   "source": [
    "Does each frontend became a class and/or methods? "
   ]
  },
  {
   "cell_type": "code",
   "execution_count": 11,
   "metadata": {},
   "outputs": [
    {
     "name": "stdout",
     "output_type": "stream",
     "text": [
      "domain file_name='nii.gz' frontend='neuro'\n",
      "nii.gz\n"
     ]
    }
   ],
   "source": [
    "## try some yt like stuff\n",
    "## create schema\n",
    "\n",
    "class domain(BaseModel):\n",
    "    file_name: str = None\n",
    "    frontend : str = None\n",
    "        \n",
    "\n",
    "test_data = {'frontend':'neuro', 'file_name':'nii.gz'}\n",
    "dd = domain(**test_data)\n",
    "\n",
    "print(dd)\n",
    "print(dd.file_name)"
   ]
  },
  {
   "cell_type": "code",
   "execution_count": 14,
   "metadata": {},
   "outputs": [
    {
     "name": "stdout",
     "output_type": "stream",
     "text": [
      "/Users/swalkow2/Documents/GitHub/Declarative_Domains\r\n"
     ]
    }
   ],
   "source": [
    "!pwd"
   ]
  },
  {
   "cell_type": "code",
   "execution_count": 53,
   "metadata": {},
   "outputs": [
    {
     "name": "stdout",
     "output_type": "stream",
     "text": [
      "test.txt\n"
     ]
    }
   ],
   "source": [
    "## try HDF5 scheme\n",
    "\n",
    "class Dataset:\n",
    "    def __init__(self, fid, shape:int, header: str):\n",
    "        self.fid : str = fid\n",
    "        self.shape : int\n",
    "        self.header : str\n",
    "    \n",
    "test = Dataset(fid = 'test.txt', shape = 3, header = 'test')\n",
    "print(test.fid)"
   ]
  },
  {
   "cell_type": "code",
   "execution_count": 55,
   "metadata": {},
   "outputs": [
    {
     "name": "stdout",
     "output_type": "stream",
     "text": [
      "datatypes fid='testing' shape=[3, 3, 4]\n"
     ]
    }
   ],
   "source": [
    "class datatypes(BaseModel):\n",
    "    fid : str\n",
    "    shape : List[int]\n",
    "        \n",
    "d = {'fid':'testing', 'shape':[3,3,4]}\n",
    "hd = datatypes(**d)\n",
    "print(hd)"
   ]
  },
  {
   "cell_type": "code",
   "execution_count": 58,
   "metadata": {},
   "outputs": [],
   "source": [
    "class MainModel(pydantic.BaseModel):\n",
    "    data : datatypes = pydantic.Schema('test.txt', shape = [3,2,4])\n",
    "    class Config:\n",
    "        title = 'New Schema'\n",
    "    "
   ]
  },
  {
   "cell_type": "code",
   "execution_count": 59,
   "metadata": {},
   "outputs": [
    {
     "name": "stdout",
     "output_type": "stream",
     "text": [
      "{'title': 'New Schema', 'type': 'object', 'properties': {'data': {'title': 'Data', 'default': 'test.txt', 'shape': [3, 2, 4], 'allOf': [{'$ref': '#/definitions/datatypes'}]}}, 'definitions': {'datatypes': {'title': 'datatypes', 'type': 'object', 'properties': {'fid': {'title': 'Fid', 'type': 'string'}, 'shape': {'title': 'Shape', 'type': 'array', 'items': {'type': 'integer'}}}, 'required': ['fid', 'shape']}}}\n"
     ]
    }
   ],
   "source": [
    "print(MainModel.schema())"
   ]
  },
  {
   "cell_type": "code",
   "execution_count": 60,
   "metadata": {},
   "outputs": [
    {
     "name": "stdout",
     "output_type": "stream",
     "text": [
      "{\n",
      "  \"title\": \"New Schema\",\n",
      "  \"type\": \"object\",\n",
      "  \"properties\": {\n",
      "    \"data\": {\n",
      "      \"title\": \"Data\",\n",
      "      \"default\": \"test.txt\",\n",
      "      \"shape\": [\n",
      "        3,\n",
      "        2,\n",
      "        4\n",
      "      ],\n",
      "      \"allOf\": [\n",
      "        {\n",
      "          \"$ref\": \"#/definitions/datatypes\"\n",
      "        }\n",
      "      ]\n",
      "    }\n",
      "  },\n",
      "  \"definitions\": {\n",
      "    \"datatypes\": {\n",
      "      \"title\": \"datatypes\",\n",
      "      \"type\": \"object\",\n",
      "      \"properties\": {\n",
      "        \"fid\": {\n",
      "          \"title\": \"Fid\",\n",
      "          \"type\": \"string\"\n",
      "        },\n",
      "        \"shape\": {\n",
      "          \"title\": \"Shape\",\n",
      "          \"type\": \"array\",\n",
      "          \"items\": {\n",
      "            \"type\": \"integer\"\n",
      "          }\n",
      "        }\n",
      "      },\n",
      "      \"required\": [\n",
      "        \"fid\",\n",
      "        \"shape\"\n",
      "      ]\n",
      "    }\n",
      "  }\n",
      "}\n"
     ]
    }
   ],
   "source": [
    "print(MainModel.schema_json(indent=2))"
   ]
  },
  {
   "cell_type": "markdown",
   "metadata": {},
   "source": [
    "use enzo data - enzo heichary .heichary, skip the pointers (make everything typed)"
   ]
  },
  {
   "cell_type": "markdown",
   "metadata": {},
   "source": [
    "pull up the \"invalidators\" and put in schema"
   ]
  },
  {
   "cell_type": "markdown",
   "metadata": {},
   "source": [
    "Do all type annotations"
   ]
  },
  {
   "cell_type": "code",
   "execution_count": null,
   "metadata": {},
   "outputs": [],
   "source": []
  }
 ],
 "metadata": {
  "kernelspec": {
   "display_name": "Python 3",
   "language": "python",
   "name": "python3"
  },
  "language_info": {
   "codemirror_mode": {
    "name": "ipython",
    "version": 3
   },
   "file_extension": ".py",
   "mimetype": "text/x-python",
   "name": "python",
   "nbconvert_exporter": "python",
   "pygments_lexer": "ipython3",
   "version": "3.7.3"
  }
 },
 "nbformat": 4,
 "nbformat_minor": 2
}
